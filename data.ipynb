{
 "cells": [
  {
   "cell_type": "markdown",
   "metadata": {},
   "source": [
    "Hallou, let's play with some data :)"
   ]
  },
  {
   "cell_type": "code",
   "execution_count": 36,
   "metadata": {},
   "outputs": [],
   "source": [
    "import pandas as pd\n",
    "import numpy as np\n",
    "\n",
    "import sqlite3\n"
   ]
  },
  {
   "cell_type": "code",
   "execution_count": 37,
   "metadata": {},
   "outputs": [],
   "source": [
    "cnn = sqlite3.connect('data.db')\n",
    "c = cnn.cursor()"
   ]
  },
  {
   "cell_type": "code",
   "execution_count": 39,
   "metadata": {},
   "outputs": [
    {
     "ename": "OperationalError",
     "evalue": "table `client` already exists",
     "output_type": "error",
     "traceback": [
      "\u001b[1;31m---------------------------------------------------------------------------\u001b[0m",
      "\u001b[1;31mOperationalError\u001b[0m                          Traceback (most recent call last)",
      "\u001b[1;32m~\\AppData\\Local\\Temp/ipykernel_25616/329528292.py\u001b[0m in \u001b[0;36m<module>\u001b[1;34m\u001b[0m\n\u001b[1;32m----> 1\u001b[1;33m c.execute(''' CREATE TABLE `client` (\n\u001b[0m\u001b[0;32m      2\u001b[0m   \u001b[0;31m`\u001b[0m\u001b[0mid\u001b[0m\u001b[0;31m`\u001b[0m \u001b[0mint\u001b[0m\u001b[1;33m(\u001b[0m\u001b[1;36m10\u001b[0m\u001b[1;33m)\u001b[0m \u001b[0mNOT\u001b[0m \u001b[0mNULL\u001b[0m\u001b[1;33m,\u001b[0m\u001b[1;33m\u001b[0m\u001b[1;33m\u001b[0m\u001b[0m\n\u001b[0;32m      3\u001b[0m   \u001b[0;31m`\u001b[0m\u001b[0mprenom\u001b[0m\u001b[0;31m`\u001b[0m \u001b[0mvarchar\u001b[0m\u001b[1;33m(\u001b[0m\u001b[1;36m255\u001b[0m\u001b[1;33m)\u001b[0m \u001b[0mNOT\u001b[0m \u001b[0mNULL\u001b[0m\u001b[1;33m,\u001b[0m\u001b[1;33m\u001b[0m\u001b[1;33m\u001b[0m\u001b[0m\n\u001b[0;32m      4\u001b[0m   \u001b[0;31m`\u001b[0m\u001b[0mnom\u001b[0m\u001b[0;31m`\u001b[0m \u001b[0mvarchar\u001b[0m\u001b[1;33m(\u001b[0m\u001b[1;36m255\u001b[0m\u001b[1;33m)\u001b[0m \u001b[0mNOT\u001b[0m \u001b[0mNULL\u001b[0m\u001b[1;33m,\u001b[0m\u001b[1;33m\u001b[0m\u001b[1;33m\u001b[0m\u001b[0m\n\u001b[0;32m      5\u001b[0m   \u001b[0;31m`\u001b[0m\u001b[0memail\u001b[0m\u001b[0;31m`\u001b[0m \u001b[0mvarchar\u001b[0m\u001b[1;33m(\u001b[0m\u001b[1;36m255\u001b[0m\u001b[1;33m)\u001b[0m \u001b[0mNOT\u001b[0m \u001b[0mNULL\u001b[0m\u001b[1;33m,\u001b[0m\u001b[1;33m\u001b[0m\u001b[1;33m\u001b[0m\u001b[0m\n",
      "\u001b[1;31mOperationalError\u001b[0m: table `client` already exists"
     ]
    }
   ],
   "source": [
    "c.execute(''' CREATE TABLE `client` (\n",
    "  `id` int(10) NOT NULL,\n",
    "  `prenom` varchar(255) NOT NULL,\n",
    "  `nom` varchar(255) NOT NULL,\n",
    "  `email` varchar(255) NOT NULL,\n",
    "  `ville` varchar(255) NOT NULL,\n",
    "  `password` varchar(255) NOT NULL,\n",
    "  PRIMARY KEY (`id`)\n",
    ")\n",
    "''')"
   ]
  },
  {
   "cell_type": "code",
   "execution_count": 34,
   "metadata": {},
   "outputs": [
    {
     "ename": "OperationalError",
     "evalue": "database is locked",
     "output_type": "error",
     "traceback": [
      "\u001b[1;31m---------------------------------------------------------------------------\u001b[0m",
      "\u001b[1;31mOperationalError\u001b[0m                          Traceback (most recent call last)",
      "\u001b[1;32m~\\AppData\\Local\\Temp/ipykernel_25616/2395052694.py\u001b[0m in \u001b[0;36m<module>\u001b[1;34m\u001b[0m\n\u001b[1;32m----> 1\u001b[1;33m c.execute('''\n\u001b[0m\u001b[0;32m      2\u001b[0m \u001b[0mINSERT\u001b[0m \u001b[0mINTO\u001b[0m\u001b[0;31m \u001b[0m\u001b[0;31m`\u001b[0m\u001b[0mclient\u001b[0m\u001b[0;31m`\u001b[0m \u001b[1;33m(\u001b[0m\u001b[0;31m`\u001b[0m\u001b[0mid\u001b[0m\u001b[0;31m`\u001b[0m\u001b[1;33m,\u001b[0m\u001b[0;31m \u001b[0m\u001b[0;31m`\u001b[0m\u001b[0mprenom\u001b[0m\u001b[0;31m`\u001b[0m\u001b[1;33m,\u001b[0m\u001b[0;31m \u001b[0m\u001b[0;31m`\u001b[0m\u001b[0mnom\u001b[0m\u001b[0;31m`\u001b[0m\u001b[1;33m,\u001b[0m\u001b[0;31m \u001b[0m\u001b[0;31m`\u001b[0m\u001b[0memail\u001b[0m\u001b[0;31m`\u001b[0m\u001b[1;33m,\u001b[0m\u001b[0;31m \u001b[0m\u001b[0;31m`\u001b[0m\u001b[0mville\u001b[0m\u001b[0;31m`\u001b[0m\u001b[1;33m,\u001b[0m\u001b[0;31m \u001b[0m\u001b[0;31m`\u001b[0m\u001b[0mpassword\u001b[0m\u001b[0;31m`\u001b[0m\u001b[1;33m)\u001b[0m \u001b[0mVALUES\u001b[0m\u001b[1;33m\u001b[0m\u001b[1;33m\u001b[0m\u001b[0m\n\u001b[0;32m      3\u001b[0m \u001b[1;33m(\u001b[0m\u001b[1;36m1\u001b[0m\u001b[1;33m,\u001b[0m \u001b[1;34m'Flavie'\u001b[0m\u001b[1;33m,\u001b[0m \u001b[1;34m'Da costa'\u001b[0m\u001b[1;33m,\u001b[0m \u001b[1;34m'f.da.costa@example.com'\u001b[0m\u001b[1;33m,\u001b[0m \u001b[1;34m'Pomoy'\u001b[0m\u001b[1;33m,\u001b[0m \u001b[1;34m'b444ac06613fc8d63795be9ad0beaf55011936ac'\u001b[0m\u001b[1;33m)\u001b[0m\u001b[1;33m,\u001b[0m\u001b[1;33m\u001b[0m\u001b[1;33m\u001b[0m\u001b[0m\n\u001b[0;32m      4\u001b[0m \u001b[1;33m(\u001b[0m\u001b[1;36m2\u001b[0m\u001b[1;33m,\u001b[0m \u001b[1;34m'Valentin'\u001b[0m\u001b[1;33m,\u001b[0m \u001b[1;34m'Vespasien'\u001b[0m\u001b[1;33m,\u001b[0m \u001b[1;34m'valentin@example.com'\u001b[0m\u001b[1;33m,\u001b[0m \u001b[1;34m'Buvilly'\u001b[0m\u001b[1;33m,\u001b[0m \u001b[1;34m'109f4b3c50d7b0df729d299bc6f8e9ef9066971f'\u001b[0m\u001b[1;33m)\u001b[0m\u001b[1;33m,\u001b[0m\u001b[1;33m\u001b[0m\u001b[1;33m\u001b[0m\u001b[0m\n\u001b[0;32m      5\u001b[0m \u001b[1;33m(\u001b[0m\u001b[1;36m3\u001b[0m\u001b[1;33m,\u001b[0m \u001b[1;34m'Gustave'\u001b[0m\u001b[1;33m,\u001b[0m \u001b[1;34m'Collin'\u001b[0m\u001b[1;33m,\u001b[0m \u001b[1;34m'gust@example.com'\u001b[0m\u001b[1;33m,\u001b[0m \u001b[1;34m'Marseille'\u001b[0m\u001b[1;33m,\u001b[0m \u001b[1;34m'3ebfa301dc59196f18593c45e519287a23297589'\u001b[0m\u001b[1;33m)\u001b[0m\u001b[1;33m,\u001b[0m\u001b[1;33m\u001b[0m\u001b[1;33m\u001b[0m\u001b[0m\n",
      "\u001b[1;31mOperationalError\u001b[0m: database is locked"
     ]
    }
   ],
   "source": [
    "c.execute('''\n",
    "INSERT INTO `client` (`id`, `prenom`, `nom`, `email`, `ville`, `password`) VALUES\n",
    "(1, 'Flavie', 'Da costa', 'f.da.costa@example.com', 'Pomoy', 'b444ac06613fc8d63795be9ad0beaf55011936ac'),\n",
    "(2, 'Valentin', 'Vespasien', 'valentin@example.com', 'Buvilly', '109f4b3c50d7b0df729d299bc6f8e9ef9066971f'),\n",
    "(3, 'Gustave', 'Collin', 'gust@example.com', 'Marseille', '3ebfa301dc59196f18593c45e519287a23297589'),\n",
    "(4, 'Emilien', 'Camus', 'emilien@example.com', 'Toulouse', '1ff2b3704aede04eecb51e50ca698efd50a1379b'),\n",
    "(5, 'Firmin', 'Marais', 'firmin.marais@example.com', 'Lyon', '911ddc3b8f9a13b5499b6bc4638a2b4f3f68bf23'),\n",
    "(6, 'Olivier', 'Riou', 'olive.de.lugagnac@example.com', 'Lugagnac', 'a66df261120b6c2311c6ef0b1bab4e583afcbcc0'),\n",
    "(7, 'Lucas', 'Jung', 'lucas.jung@example.com', 'Coulgens', 'ea3243132d653b39025a944e70f3ecdf70ee3994'),\n",
    "(8, 'Maurice', 'Huet', 'maurice.villemareuil@example.com', 'Villemareuil', 'd03f9d34194393019e6d12d7c942827ebd694443'),\n",
    "(9, 'Manon', 'Durand', 'm.durand.s.e@example.com', 'Saint-Etienne', '53d525836cc96d089a5a4218b464fda532f7debe'),\n",
    "(10, 'Joachim', 'Leon', 'joachim@example.com', 'Longwy-sur-le-Doubs', '168f4029f416ee06565f12e697dfc1534ae69d32'),\n",
    "(11, 'Muriel', 'Dupuis', 'muriel@example.com', 'Paris', '100c4e57374fc998e57164d4c0453bd3a4876a58'),\n",
    "(12, 'Christiane', 'Riou', 'chritianelesabrets@example.com', 'Les Abrets', '4ff1a33e188b7b86123d6e3be2722a23514a83b4'),\n",
    "(13, 'Jacinthe', 'Langlois', 'jacinthe.langlois@example.com', 'Lagney', 'd804cd9cc0c42b0652bab002f67858ab803c40c6'),\n",
    "(14, 'Amaury', 'Payet', 'amaury@example.com', 'Avermes', 'd79336a97da7d284c0fe15497d2fa944d1f2abb1'),\n",
    "(15, 'Maris', 'Buisson', 'maris@example.com', 'Le Havre', '61bb70fa60368f069e62d601c357d203700ab2d2'),\n",
    "(16, 'Fabrice', 'Foucher', 'fab.montlouis@example.com', 'Montlouis', '1fbefee9cfb86926757519357e077fd6a21aef0f'),\n",
    "(17, 'Patrick', 'Saunier', 'patrick.saunier@example.com', 'Saligney', '08a25c0f270b29aeba650e6b2d1a9947a778c5da'),\n",
    "(18, 'Emile', 'Ramos', 'emile@example.com', 'Arzay', 'cfc996a3aaac95f0fb508f46499dcb72b6d0abee'),\n",
    "(19, 'Armel', 'Vigneron', 'armel.delain@example.com', 'Delain', 'bba019890aec72f6dd6b4e98513055cae61df098'),\n",
    "(20, 'Arnaude', 'Vallee', 'armaude.vallee@example.com', 'Hostias', '57e5a4df68387d1d97210cf40c41104ce9256cf6');\n",
    "''')"
   ]
  },
  {
   "cell_type": "code",
   "execution_count": 9,
   "metadata": {},
   "outputs": [
    {
     "data": {
      "text/plain": [
       "<sqlite3.Cursor at 0x276e3162ce0>"
      ]
     },
     "execution_count": 9,
     "metadata": {},
     "output_type": "execute_result"
    }
   ],
   "source": [
    "c.execute(''' \n",
    "CREATE TABLE IF NOT EXISTS `commande_ligne` (\n",
    "  `id` int(10) NOT NULL ,\n",
    "  `commande_id` int(10)  NOT NULL,\n",
    "  `nom` varchar(255) NOT NULL,\n",
    "  `quantite` int(10) NOT NULL,\n",
    "  `prix_unitaire` float  NOT NULL,\n",
    "  `prix_total` float  NOT NULL,\n",
    "  PRIMARY KEY (`id`)\n",
    ")\n",
    "''')"
   ]
  },
  {
   "cell_type": "code",
   "execution_count": 10,
   "metadata": {},
   "outputs": [
    {
     "data": {
      "text/plain": [
       "<sqlite3.Cursor at 0x276e3162ce0>"
      ]
     },
     "execution_count": 10,
     "metadata": {},
     "output_type": "execute_result"
    }
   ],
   "source": [
    "c.execute('''\n",
    "INSERT INTO `commande_ligne` (`id`, `commande_id`, `nom`, `quantite`, `prix_unitaire`, `prix_total`) VALUES\n",
    "(1, 1, 'Produit 19', 3, 49.57, 0),\n",
    "(2, 1, 'Produit 92', 4, 81.24, 0),\n",
    "(3, 1, 'Produit 68', 2, 17.48, 0),\n",
    "(4, 2, 'Produit 53', 4, 83.69, 0),\n",
    "(5, 2, 'Produit 78', 6, 5.99, 0),\n",
    "(6, 3, 'Produit D9', 7, 18.91, 0),\n",
    "(7, 4, 'Produit A3', 8, 76.57, 0),\n",
    "(8, 4, 'Produit BB', 10, 86.14, 0),\n",
    "(9, 4, 'Produit 7C', 4, 80.96, 0),\n",
    "(10, 4, 'Produit 78', 9, 26.4, 0),\n",
    "(11, 4, 'Produit 07', 6, 9.13, 0),\n",
    "(12, 5, 'Produit 00', 10, 86.45, 0),\n",
    "(13, 5, 'Produit 7A', 2, 44.86, 0),\n",
    "(14, 6, 'Produit E1', 9, 84.93, 0),\n",
    "(15, 7, 'Produit D6', 2, 50.07, 0),\n",
    "(16, 7, 'Produit BD', 7, 115.55, 0),\n",
    "(17, 7, 'Produit D9', 3, 67.55, 0),\n",
    "(18, 8, 'Produit 55', 9, 111.12, 0),\n",
    "(19, 9, 'Produit C7', 10, 112.93, 0),\n",
    "(20, 10, 'Produit 2A', 2, 111.31, 0),\n",
    "(21, 10, 'Produit 07', 5, 97.75, 0),\n",
    "(22, 10, 'Produit FC', 10, 34.8, 0),\n",
    "(23, 10, 'Produit A6', 5, 0.76, 0),\n",
    "(24, 11, 'Produit 4B', 5, 19.4, 0),\n",
    "(25, 12, 'Produit 12', 1, 94.72, 0),\n",
    "(26, 12, 'Produit 09', 7, 55.39, 0),\n",
    "(27, 13, 'Produit EA', 2, 112.78, 0),\n",
    "(28, 13, 'Produit CB', 6, 37.73, 0),\n",
    "(29, 14, 'Produit A1', 7, 90.34, 0),\n",
    "(30, 14, 'Produit 00', 6, 98.49, 0),\n",
    "(31, 15, 'Produit 67', 9, 101.43, 0),\n",
    "(32, 15, 'Produit 52', 8, 91.68, 0),\n",
    "(33, 16, 'Produit 2E', 4, 34.1, 0),\n",
    "(34, 17, 'Produit 36', 10, 15.48, 0),\n",
    "(35, 17, 'Produit 67', 2, 95.08, 0),\n",
    "(36, 17, 'Produit 4D', 5, 68.97, 0),\n",
    "(37, 17, 'Produit 1D', 10, 59.6, 0),\n",
    "(38, 18, 'Produit 4C', 6, 91.1, 0),\n",
    "(39, 18, 'Produit 12', 8, 36.69, 0),\n",
    "(40, 18, 'Produit 13', 6, 30.17, 0),\n",
    "(41, 18, 'Produit 22', 1, 40.78, 0),\n",
    "(42, 19, 'Produit CE', 8, 113.4, 0),\n",
    "(43, 20, 'Produit DD', 6, 84.64, 0),\n",
    "(44, 20, 'Produit C4', 5, 82.99, 0),\n",
    "(45, 20, 'Produit 43', 6, 41.06, 0),\n",
    "(46, 21, 'Produit F4', 5, 76.31, 0),\n",
    "(47, 21, 'Produit FC', 7, 18.36, 0),\n",
    "(48, 22, 'Produit 95', 3, 102.88, 0),\n",
    "(49, 22, 'Produit E1', 7, 99.32, 0),\n",
    "(50, 22, 'Produit 2D', 9, 67.95, 0),\n",
    "(51, 22, 'Produit 6C', 7, 41.8, 0),\n",
    "(52, 22, 'Produit 49', 4, 5.14, 0),\n",
    "(53, 23, 'Produit 6D', 6, 20.32, 0),\n",
    "(54, 23, 'Produit 8A', 9, 86.16, 0),\n",
    "(55, 23, 'Produit EE', 10, 9.84, 0),\n",
    "(56, 24, 'Produit B9', 1, 30.71, 0),\n",
    "(57, 24, 'Produit C8', 4, 4.03, 0),\n",
    "(58, 24, 'Produit E5', 4, 48.04, 0),\n",
    "(59, 25, 'Produit 0F', 1, 108.12, 0),\n",
    "(60, 25, 'Produit DD', 10, 36.47, 0),\n",
    "(61, 26, 'Produit 67', 8, 98, 0),\n",
    "(62, 27, 'Produit 41', 1, 20.58, 0),\n",
    "(63, 27, 'Produit 54', 7, 48.89, 0),\n",
    "(64, 28, 'Produit 65', 4, 62.73, 0),\n",
    "(65, 28, 'Produit 93', 9, 46.97, 0),\n",
    "(66, 29, 'Produit 9A', 2, 46.68, 0),\n",
    "(67, 29, 'Produit D2', 9, 92.48, 0),\n",
    "(68, 29, 'Produit 6D', 4, 82.35, 0),\n",
    "(69, 30, 'Produit 20', 8, 14.3, 0),\n",
    "(70, 31, 'Produit 3C', 8, 64.45, 0),\n",
    "(71, 31, 'Produit 60', 6, 39.34, 0),\n",
    "(72, 32, 'Produit 63', 7, 3.38, 0),\n",
    "(73, 32, 'Produit 95', 8, 18.86, 0),\n",
    "(74, 32, 'Produit 62', 6, 84.17, 0),\n",
    "(75, 32, 'Produit DE', 5, 4.28, 0),\n",
    "(76, 33, 'Produit D0', 9, 8.88, 0),\n",
    "(77, 33, 'Produit D6', 9, 31.55, 0),\n",
    "(78, 33, 'Produit C3', 7, 11.14, 0),\n",
    "(79, 34, 'Produit 5E', 10, 81.02, 0),\n",
    "(80, 35, 'Produit B2', 8, 11.71, 0),\n",
    "(81, 36, 'Produit 3C', 10, 55.47, 0),\n",
    "(82, 37, 'Produit 6F', 7, 2.24, 0),\n",
    "(83, 37, 'Produit 16', 2, 84.8, 0),\n",
    "(84, 38, 'Produit 1A', 6, 57.27, 0),\n",
    "(85, 38, 'Produit 24', 7, 31.93, 0),\n",
    "(86, 39, 'Produit DF', 6, 107.85, 0),\n",
    "(87, 39, 'Produit 7F', 9, 83.44, 0),\n",
    "(88, 40, 'Produit 6D', 6, 93.67, 0),\n",
    "(89, 40, 'Produit 6B', 3, 98.04, 0),\n",
    "(90, 41, 'Produit 8A', 5, 89.18, 0),\n",
    "(91, 41, 'Produit 6D', 4, 31.78, 0),\n",
    "(92, 42, 'Produit 1C', 6, 11.35, 0),\n",
    "(93, 42, 'Produit 52', 8, 81.43, 0),\n",
    "(94, 43, 'Produit B4', 10, 13.1, 0),\n",
    "(95, 43, 'Produit FD', 8, 61.21, 0),\n",
    "(96, 44, 'Produit 4A', 10, 26.72, 0),\n",
    "(97, 44, 'Produit D4', 5, 70.01, 0),\n",
    "(98, 44, 'Produit 9B', 6, 29.86, 0),\n",
    "(99, 44, 'Produit BE', 3, 59.3, 0),\n",
    "(100, 44, 'Produit 86', 4, 86.9, 0),\n",
    "(101, 45, 'Produit F0', 3, 16.59, 0),\n",
    "(102, 45, 'Produit 6A', 2, 62.25, 0),\n",
    "(103, 45, 'Produit 85', 10, 21.48, 0),\n",
    "(104, 45, 'Produit EF', 5, 40.65, 0),\n",
    "(105, 46, 'Produit C4', 3, 18.81, 0),\n",
    "(106, 46, 'Produit F9', 6, 92.09, 0),\n",
    "(107, 46, 'Produit 05', 6, 44.02, 0),\n",
    "(108, 46, 'Produit 3A', 8, 63.84, 0),\n",
    "(109, 46, 'Produit 2E', 2, 67.15, 0),\n",
    "(110, 47, 'Produit 6E', 6, 24.24, 0),\n",
    "(111, 47, 'Produit F8', 6, 39.74, 0),\n",
    "(112, 47, 'Produit A9', 10, 5.97, 0),\n",
    "(113, 47, 'Produit 21', 2, 30.63, 0),\n",
    "(114, 47, 'Produit 93', 7, 15.24, 0),\n",
    "(115, 48, 'Produit E4', 9, 104.3, 0),\n",
    "(116, 48, 'Produit 72', 5, 115.8, 0),\n",
    "(117, 48, 'Produit DB', 7, 26.1, 0),\n",
    "(118, 48, 'Produit DE', 9, 23.12, 0),\n",
    "(119, 48, 'Produit 3D', 7, 37.26, 0),\n",
    "(120, 48, 'Produit C5', 4, 116.97, 0);\n",
    "''')"
   ]
  },
  {
   "cell_type": "code",
   "execution_count": 40,
   "metadata": {},
   "outputs": [
    {
     "ename": "OperationalError",
     "evalue": "database is locked",
     "output_type": "error",
     "traceback": [
      "\u001b[1;31m---------------------------------------------------------------------------\u001b[0m",
      "\u001b[1;31mOperationalError\u001b[0m                          Traceback (most recent call last)",
      "\u001b[1;32m~\\AppData\\Local\\Temp/ipykernel_25616/2707933248.py\u001b[0m in \u001b[0;36m<module>\u001b[1;34m\u001b[0m\n\u001b[1;32m----> 1\u001b[1;33m c.execute('''\n\u001b[0m\u001b[0;32m      2\u001b[0m CREATE TABLE IF NOT EXISTS `commande` (\n\u001b[0;32m      3\u001b[0m   \u001b[0;31m`\u001b[0m\u001b[0mid\u001b[0m\u001b[0;31m`\u001b[0m \u001b[0mint\u001b[0m\u001b[1;33m(\u001b[0m\u001b[1;36m10\u001b[0m\u001b[1;33m)\u001b[0m \u001b[0mNOT\u001b[0m \u001b[0mNULL\u001b[0m\u001b[1;33m,\u001b[0m\u001b[1;33m\u001b[0m\u001b[1;33m\u001b[0m\u001b[0m\n\u001b[0;32m      4\u001b[0m   \u001b[0;31m`\u001b[0m\u001b[0mclient_id\u001b[0m\u001b[0;31m`\u001b[0m \u001b[0mint\u001b[0m\u001b[1;33m(\u001b[0m\u001b[1;36m10\u001b[0m\u001b[1;33m)\u001b[0m  \u001b[0mNOT\u001b[0m \u001b[0mNULL\u001b[0m\u001b[1;33m,\u001b[0m\u001b[1;33m\u001b[0m\u001b[1;33m\u001b[0m\u001b[0m\n\u001b[0;32m      5\u001b[0m   \u001b[0;31m`\u001b[0m\u001b[0mdate_achat\u001b[0m\u001b[0;31m`\u001b[0m \u001b[0mdate\u001b[0m \u001b[0mNOT\u001b[0m \u001b[0mNULL\u001b[0m\u001b[1;33m,\u001b[0m\u001b[1;33m\u001b[0m\u001b[1;33m\u001b[0m\u001b[0m\n",
      "\u001b[1;31mOperationalError\u001b[0m: database is locked"
     ]
    }
   ],
   "source": [
    "c.execute('''\n",
    "CREATE TABLE IF NOT EXISTS `commande` (\n",
    "  `id` int(10) NOT NULL,\n",
    "  `client_id` int(10)  NOT NULL,\n",
    "  `date_achat` date NOT NULL,\n",
    "  `reference` varchar(255) NOT NULL,\n",
    "  `cache_prix_total` float NOT NULL,\n",
    "  PRIMARY KEY (`id`)\n",
    ")\n",
    "''')"
   ]
  },
  {
   "cell_type": "code",
   "execution_count": 12,
   "metadata": {},
   "outputs": [
    {
     "data": {
      "text/plain": [
       "<sqlite3.Cursor at 0x276e3162ce0>"
      ]
     },
     "execution_count": 12,
     "metadata": {},
     "output_type": "execute_result"
    }
   ],
   "source": [
    "c. execute('''\n",
    "INSERT INTO `commande` (`id`, `client_id`, `date_achat`, `reference`, `cache_prix_total`) VALUES\n",
    "(1, 20, '2019-01-01', '004214', 0),\n",
    "(2, 3, '2019-01-03', '007120', 0),\n",
    "(3, 11, '2019-01-04', '002957', 0),\n",
    "(4, 6, '2019-01-07', '003425', 0),\n",
    "(5, 17, '2019-01-08', '008255', 0),\n",
    "(6, 7, '2019-01-09', '000996', 0),\n",
    "(7, 2, '2019-01-10', '000214', 0),\n",
    "(8, 7, '2019-01-11', '008084', 0),\n",
    "(9, 12, '2019-01-11', '009773', 0),\n",
    "(10, 16, '2019-01-13', '004616', 0),\n",
    "(11, 4, '2019-01-14', '003757', 0),\n",
    "(12, 9, '2019-01-15', '004939', 0),\n",
    "(13, 14, '2019-01-16', '003421', 0),\n",
    "(14, 6, '2019-01-16', '002286', 0),\n",
    "(15, 3, '2019-01-17', '001167', 0),\n",
    "(16, 15, '2019-01-18', '008974', 0),\n",
    "(17, 9, '2019-01-19', '001369', 0),\n",
    "(18, 17, '2019-01-20', '009924', 0),\n",
    "(19, 3, '2019-01-21', '005510', 0),\n",
    "(20, 17, '2019-01-22', '007778', 0),\n",
    "(21, 17, '2019-01-23', '002359', 0),\n",
    "(22, 15, '2019-01-25', '008459', 0),\n",
    "(23, 4, '2019-01-27', '005217', 0),\n",
    "(24, 12, '2019-01-29', '000706', 0),\n",
    "(25, 9, '2019-02-01', '007879', 0),\n",
    "(26, 8, '2019-02-02', '007277', 0),\n",
    "(27, 11, '2019-02-02', '002745', 0),\n",
    "(28, 11, '2019-02-03', '001893', 0),\n",
    "(29, 20, '2019-02-04', '001230', 0),\n",
    "(30, 10, '2019-02-05', '000469', 0),\n",
    "(31, 7, '2019-02-05', '008653', 0),\n",
    "(32, 3, '2019-02-06', '001858', 0),\n",
    "(33, 14, '2019-02-07', '003330', 0),\n",
    "(34, 2, '2019-02-08', '001074', 0),\n",
    "(35, 5, '2019-02-08', '005379', 0),\n",
    "(36, 16, '2019-02-09', '003672', 0),\n",
    "(37, 10, '2019-02-09', '002220', 0),\n",
    "(38, 19, '2019-02-10', '000086', 0),\n",
    "(39, 8, '2019-02-11', '003770', 0),\n",
    "(40, 2, '2019-02-12', '008590', 0),\n",
    "(41, 2, '2019-02-12', '001639', 0),\n",
    "(42, 4, '2019-02-13', '002426', 0),\n",
    "(43, 13, '2019-02-14', '007209', 0),\n",
    "(44, 13, '2019-02-15', '008768', 0),\n",
    "(45, 7, '2019-02-16', '002213', 0),\n",
    "(46, 12, '2019-02-17', '004759', 0),\n",
    "(47, 19, '2019-02-18', '007155', 0),\n",
    "(48, 2, '2019-02-19', '001496', 0);\n",
    "''')"
   ]
  },
  {
   "cell_type": "code",
   "execution_count": 17,
   "metadata": {},
   "outputs": [],
   "source": [
    "import sqldf"
   ]
  },
  {
   "cell_type": "code",
   "execution_count": 53,
   "metadata": {},
   "outputs": [
    {
     "ename": "DatabaseError",
     "evalue": "Execution failed on sql '\nSELECT * \nFROM `commande` \n\n': no such table: commande",
     "output_type": "error",
     "traceback": [
      "\u001b[1;31m---------------------------------------------------------------------------\u001b[0m",
      "\u001b[1;31mOperationalError\u001b[0m                          Traceback (most recent call last)",
      "\u001b[1;32m~\\AppData\\Local\\Packages\\PythonSoftwareFoundation.Python.3.9_qbz5n2kfra8p0\\LocalCache\\local-packages\\Python39\\site-packages\\pandas\\io\\sql.py\u001b[0m in \u001b[0;36mexecute\u001b[1;34m(self, *args, **kwargs)\u001b[0m\n\u001b[0;32m   1724\u001b[0m         \u001b[1;32mtry\u001b[0m\u001b[1;33m:\u001b[0m\u001b[1;33m\u001b[0m\u001b[1;33m\u001b[0m\u001b[0m\n\u001b[1;32m-> 1725\u001b[1;33m             \u001b[0mcur\u001b[0m\u001b[1;33m.\u001b[0m\u001b[0mexecute\u001b[0m\u001b[1;33m(\u001b[0m\u001b[1;33m*\u001b[0m\u001b[0margs\u001b[0m\u001b[1;33m,\u001b[0m \u001b[1;33m**\u001b[0m\u001b[0mkwargs\u001b[0m\u001b[1;33m)\u001b[0m\u001b[1;33m\u001b[0m\u001b[1;33m\u001b[0m\u001b[0m\n\u001b[0m\u001b[0;32m   1726\u001b[0m             \u001b[1;32mreturn\u001b[0m \u001b[0mcur\u001b[0m\u001b[1;33m\u001b[0m\u001b[1;33m\u001b[0m\u001b[0m\n",
      "\u001b[1;31mOperationalError\u001b[0m: no such table: commande",
      "\nThe above exception was the direct cause of the following exception:\n",
      "\u001b[1;31mDatabaseError\u001b[0m                             Traceback (most recent call last)",
      "\u001b[1;32m~\\AppData\\Local\\Temp/ipykernel_25616/3320992991.py\u001b[0m in \u001b[0;36m<module>\u001b[1;34m\u001b[0m\n\u001b[1;32m----> 1\u001b[1;33m df = pd.read_sql('''\n\u001b[0m\u001b[0;32m      2\u001b[0m \u001b[0mSELECT\u001b[0m \u001b[1;33m*\u001b[0m\u001b[1;33m\u001b[0m\u001b[1;33m\u001b[0m\u001b[0m\n\u001b[0;32m      3\u001b[0m \u001b[0mFROM\u001b[0m\u001b[0;31m \u001b[0m\u001b[0;31m`\u001b[0m\u001b[0mcommande\u001b[0m\u001b[0;31m`\u001b[0m\u001b[1;33m\u001b[0m\u001b[1;33m\u001b[0m\u001b[0m\n\u001b[0;32m      4\u001b[0m \u001b[1;33m\u001b[0m\u001b[0m\n\u001b[0;32m      5\u001b[0m ''', cnn)\n",
      "\u001b[1;32m~\\AppData\\Local\\Packages\\PythonSoftwareFoundation.Python.3.9_qbz5n2kfra8p0\\LocalCache\\local-packages\\Python39\\site-packages\\pandas\\io\\sql.py\u001b[0m in \u001b[0;36mread_sql\u001b[1;34m(sql, con, index_col, coerce_float, params, parse_dates, columns, chunksize)\u001b[0m\n\u001b[0;32m    493\u001b[0m \u001b[1;33m\u001b[0m\u001b[0m\n\u001b[0;32m    494\u001b[0m     \u001b[1;32mif\u001b[0m \u001b[0misinstance\u001b[0m\u001b[1;33m(\u001b[0m\u001b[0mpandas_sql\u001b[0m\u001b[1;33m,\u001b[0m \u001b[0mSQLiteDatabase\u001b[0m\u001b[1;33m)\u001b[0m\u001b[1;33m:\u001b[0m\u001b[1;33m\u001b[0m\u001b[1;33m\u001b[0m\u001b[0m\n\u001b[1;32m--> 495\u001b[1;33m         return pandas_sql.read_query(\n\u001b[0m\u001b[0;32m    496\u001b[0m             \u001b[0msql\u001b[0m\u001b[1;33m,\u001b[0m\u001b[1;33m\u001b[0m\u001b[1;33m\u001b[0m\u001b[0m\n\u001b[0;32m    497\u001b[0m             \u001b[0mindex_col\u001b[0m\u001b[1;33m=\u001b[0m\u001b[0mindex_col\u001b[0m\u001b[1;33m,\u001b[0m\u001b[1;33m\u001b[0m\u001b[1;33m\u001b[0m\u001b[0m\n",
      "\u001b[1;32m~\\AppData\\Local\\Packages\\PythonSoftwareFoundation.Python.3.9_qbz5n2kfra8p0\\LocalCache\\local-packages\\Python39\\site-packages\\pandas\\io\\sql.py\u001b[0m in \u001b[0;36mread_query\u001b[1;34m(self, sql, index_col, coerce_float, params, parse_dates, chunksize)\u001b[0m\n\u001b[0;32m   1769\u001b[0m \u001b[1;33m\u001b[0m\u001b[0m\n\u001b[0;32m   1770\u001b[0m         \u001b[0margs\u001b[0m \u001b[1;33m=\u001b[0m \u001b[0m_convert_params\u001b[0m\u001b[1;33m(\u001b[0m\u001b[0msql\u001b[0m\u001b[1;33m,\u001b[0m \u001b[0mparams\u001b[0m\u001b[1;33m)\u001b[0m\u001b[1;33m\u001b[0m\u001b[1;33m\u001b[0m\u001b[0m\n\u001b[1;32m-> 1771\u001b[1;33m         \u001b[0mcursor\u001b[0m \u001b[1;33m=\u001b[0m \u001b[0mself\u001b[0m\u001b[1;33m.\u001b[0m\u001b[0mexecute\u001b[0m\u001b[1;33m(\u001b[0m\u001b[1;33m*\u001b[0m\u001b[0margs\u001b[0m\u001b[1;33m)\u001b[0m\u001b[1;33m\u001b[0m\u001b[1;33m\u001b[0m\u001b[0m\n\u001b[0m\u001b[0;32m   1772\u001b[0m         \u001b[0mcolumns\u001b[0m \u001b[1;33m=\u001b[0m \u001b[1;33m[\u001b[0m\u001b[0mcol_desc\u001b[0m\u001b[1;33m[\u001b[0m\u001b[1;36m0\u001b[0m\u001b[1;33m]\u001b[0m \u001b[1;32mfor\u001b[0m \u001b[0mcol_desc\u001b[0m \u001b[1;32min\u001b[0m \u001b[0mcursor\u001b[0m\u001b[1;33m.\u001b[0m\u001b[0mdescription\u001b[0m\u001b[1;33m]\u001b[0m\u001b[1;33m\u001b[0m\u001b[1;33m\u001b[0m\u001b[0m\n\u001b[0;32m   1773\u001b[0m \u001b[1;33m\u001b[0m\u001b[0m\n",
      "\u001b[1;32m~\\AppData\\Local\\Packages\\PythonSoftwareFoundation.Python.3.9_qbz5n2kfra8p0\\LocalCache\\local-packages\\Python39\\site-packages\\pandas\\io\\sql.py\u001b[0m in \u001b[0;36mexecute\u001b[1;34m(self, *args, **kwargs)\u001b[0m\n\u001b[0;32m   1735\u001b[0m \u001b[1;33m\u001b[0m\u001b[0m\n\u001b[0;32m   1736\u001b[0m             \u001b[0mex\u001b[0m \u001b[1;33m=\u001b[0m \u001b[0mDatabaseError\u001b[0m\u001b[1;33m(\u001b[0m\u001b[1;34mf\"Execution failed on sql '{args[0]}': {exc}\"\u001b[0m\u001b[1;33m)\u001b[0m\u001b[1;33m\u001b[0m\u001b[1;33m\u001b[0m\u001b[0m\n\u001b[1;32m-> 1737\u001b[1;33m             \u001b[1;32mraise\u001b[0m \u001b[0mex\u001b[0m \u001b[1;32mfrom\u001b[0m \u001b[0mexc\u001b[0m\u001b[1;33m\u001b[0m\u001b[1;33m\u001b[0m\u001b[0m\n\u001b[0m\u001b[0;32m   1738\u001b[0m \u001b[1;33m\u001b[0m\u001b[0m\n\u001b[0;32m   1739\u001b[0m     \u001b[1;33m@\u001b[0m\u001b[0mstaticmethod\u001b[0m\u001b[1;33m\u001b[0m\u001b[1;33m\u001b[0m\u001b[0m\n",
      "\u001b[1;31mDatabaseError\u001b[0m: Execution failed on sql '\nSELECT * \nFROM `commande` \n\n': no such table: commande"
     ]
    }
   ],
   "source": [
    "\n",
    "df = pd.read_sql('''\n",
    "SELECT * \n",
    "FROM `commande` \n",
    "\n",
    "''', cnn)\n"
   ]
  },
  {
   "cell_type": "code",
   "execution_count": 52,
   "metadata": {},
   "outputs": [
    {
     "data": {
      "text/html": [
       "<div>\n",
       "<style scoped>\n",
       "    .dataframe tbody tr th:only-of-type {\n",
       "        vertical-align: middle;\n",
       "    }\n",
       "\n",
       "    .dataframe tbody tr th {\n",
       "        vertical-align: top;\n",
       "    }\n",
       "\n",
       "    .dataframe thead th {\n",
       "        text-align: right;\n",
       "    }\n",
       "</style>\n",
       "<table border=\"1\" class=\"dataframe\">\n",
       "  <thead>\n",
       "    <tr style=\"text-align: right;\">\n",
       "      <th></th>\n",
       "      <th>id</th>\n",
       "      <th>prenom</th>\n",
       "      <th>nom</th>\n",
       "      <th>email</th>\n",
       "      <th>ville</th>\n",
       "      <th>password</th>\n",
       "    </tr>\n",
       "  </thead>\n",
       "  <tbody>\n",
       "  </tbody>\n",
       "</table>\n",
       "</div>"
      ],
      "text/plain": [
       "Empty DataFrame\n",
       "Columns: [id, prenom, nom, email, ville, password]\n",
       "Index: []"
      ]
     },
     "execution_count": 52,
     "metadata": {},
     "output_type": "execute_result"
    }
   ],
   "source": [
    "df.head()"
   ]
  }
 ],
 "metadata": {
  "interpreter": {
   "hash": "e949ccebb1c5a1aea0eed53c0616c5475e87a9ddaac920f369ddf5732a894eff"
  },
  "kernelspec": {
   "display_name": "Python 3.9.9 64-bit (windows store)",
   "language": "python",
   "name": "python3"
  },
  "language_info": {
   "codemirror_mode": {
    "name": "ipython",
    "version": 3
   },
   "file_extension": ".py",
   "mimetype": "text/x-python",
   "name": "python",
   "nbconvert_exporter": "python",
   "pygments_lexer": "ipython3",
   "version": "3.9.9"
  },
  "orig_nbformat": 4
 },
 "nbformat": 4,
 "nbformat_minor": 2
}
